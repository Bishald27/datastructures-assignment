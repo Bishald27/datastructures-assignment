{
  "nbformat": 4,
  "nbformat_minor": 0,
  "metadata": {
    "colab": {
      "provenance": []
    },
    "kernelspec": {
      "name": "python3",
      "display_name": "Python 3"
    },
    "language_info": {
      "name": "python"
    }
  },
  "cells": [
    {
      "cell_type": "markdown",
      "source": [
        "#Datatype and Data Structures Questions\n"
      ],
      "metadata": {
        "id": "iRyJvlyt8Cn7"
      }
    },
    {
      "cell_type": "markdown",
      "source": [
        "1.What are data structures, and why are they important?\n",
        "- Data structure is a specialized format for organizing, storing, and managing data in a computer's memory or storage. It's essentially a way of arranging data so that it can be accessed and manipulated efficiently.\n",
        "- Data structures are important because of the following reasons:\n",
        "1.    Efficiency: The choice of data structure directly impacts the efficiency of operations like searching, inserting, deleting, and sorting data.\n",
        "2.   Algorithm Design: Data structures and algorithms are inextricably linked. The design of efficient algorithms often depends on the intelligent use of appropriate data structures.\n",
        "3.  Handling large amaounts of Data: Data structures are essential for managing and processing huge data efficiently, whether it's in databases, search engines, or big data analytics.\n",
        "4. Code Organization and Reusability: Data structures provide a logical way to organize and manage data, making code cleaner, more understandable, and easier to maintain.\n"
      ],
      "metadata": {
        "id": "tXu30E2N8TIo"
      }
    },
    {
      "cell_type": "markdown",
      "source": [
        "2.Explain the difference between mutable and immutable data types with examples\n",
        "- The major difference between mutable and immutable datatype is the property of change as Objects of mutable data types can be changed after they are created whereas Objects of immutable data types cannot be changed after they are created.\n",
        "- Some examples of mutable datatypes are List, Dictionary, Sets etc.\n",
        "where as examples of immutable datatypes are integer, string, tuples"
      ],
      "metadata": {
        "id": "BZpZm8h5-dQB"
      }
    },
    {
      "cell_type": "markdown",
      "source": [
        "3.What are the main differences between lists and tuples in Python?\n",
        "- The differences between lists and tuples in Python are-\n",
        "\n",
        "- Mutability: Lists are Mutable: This means one can add, remove, or modify elements after the list has been created.Tuples are Immutable: Once a tuple is created, one cannot change its contents. one cannot add, remove, or modify elements. If one needs a modified version, one have to create a new tuple.\n",
        "-Syntax:Lists are defined using square brackets [].\n",
        "Tuples are defined using parentheses (). Even if a tuple contains only one element, you need a trailing comma\n",
        "- Performance:Because lists are mutable, Python needs to allocate more memory and provide mechanisms to handle changes, which can lead to slightly more overhead.Tuples, being immutable, are simpler for Python to manage. This often translates to slightly better performance (faster creation, faster iteration) and less memory consumption for tuples compared to lists of the same size, especially for very large collections.\n",
        "-Usage: Lists: Use lists when you have a collection of items that you expect to change over the lifetime of your program. Examples: a list of user names, items in a shopping cart, a sequence of data points that will be updated.\n",
        "Tuples: Use tuples when you have a collection of items that should remain constant. Examples: coordinates (x, y), RGB color values, database records that shouldn't be altered, function arguments that are passed as a fixed set."
      ],
      "metadata": {
        "id": "27SEEkyXAR64"
      }
    },
    {
      "cell_type": "markdown",
      "source": [
        "4.Describe how dictionaries store data\n",
        "\n",
        "- Python dictionaries are highly optimized and efficient data structures designed for fast data retrieval. They store data as key-value pairs and are internally implemented using a hash table.The fundamental unit of data storage in a dictionary is a pair: a key and its associated value.Keys must be unique and immutable. This is crucial for the hashing mechanism to work. Common immutable types used as keys include strings, numbers (integers, floats), and tuples. Lists, for example, cannot be dictionary keys because they are mutable"
      ],
      "metadata": {
        "id": "xQALYK1KlOo_"
      }
    },
    {
      "cell_type": "markdown",
      "source": [
        "5. Why might you use a set instead of a list in Python3\n",
        "- We use a set instead of a list in Python for several key reasons, primarily due to their underlying implementation and the unique properties they offer:\n",
        "Uniqueness of Elements (No Duplicates):\n",
        "Sets: Automatically ensure that all elements within them are unique. If you try to add an element that already exists in the set, it will simply be ignored, and the set will remain unchanged.Lists: Can contain duplicate elements.\n",
        "When to use a Set: If you need to store a collection of items where each item must appear only once.Example: Collecting unique visitors to a website, storing unique words from a document, or maintaining a list of distinct IDs."
      ],
      "metadata": {
        "id": "XIXTLHCHl4mX"
      }
    },
    {
      "cell_type": "markdown",
      "source": [
        "6. What is a string in Python, and how is it different from a list?\n",
        "- The most significant difference is mutability. Strings are fixed, unchangeable sequences of characters, ideal for text. Lists are flexible, changeable collections that can hold items of any data type, suitable for dynamic collections of data."
      ],
      "metadata": {
        "id": "-2tqE8-nmuK0"
      }
    },
    {
      "cell_type": "markdown",
      "source": [
        "7. How do tuples ensure data integrity in Python?\n",
        "\n",
        "- Tuples ensure data integrity in Python primarily through their fundamental characteristic of immutability.Once a tuple is created, its elements cannot be changed, added, or removed. This means that if you pass a tuple around your program, you can be absolutely certain that its contents will remain exactly as they were when you created it.\n",
        "\n"
      ],
      "metadata": {
        "id": "xYY-BBuwnQI8"
      }
    },
    {
      "cell_type": "markdown",
      "source": [
        "8. What is a hash table, and how does it relate to dictionaries in Python?\n",
        "- A hash table is a data structure that implements an associative array (also known as a map or dictionary). It's a highly efficient way to store and retrieve data in the form of key-value pairs. The core idea behind a hash table is to use a hash function to map keys to indices in an array, allowing for very fast lookups. When you want to store a key-value pair, the key is passed through a hash function. This function takes the key as input and computes an integer, called a hash value (or hash code). A good hash function will produce different hash values for different keys and distribute these values uniformly."
      ],
      "metadata": {
        "id": "TSGMLzWXoSoe"
      }
    },
    {
      "cell_type": "markdown",
      "source": [
        "9.Can lists contain different data types in Python?\n",
        "- Yes,Lists in Python can contain different data types. This is one of their key features and a significant reason for their flexibility and widespread use.\n",
        "This ability to hold heterogeneous (mixed) data types is in contrast to arrays in some other programming languages (like C, Java, or C++) which typically require all elements to be of the same data type."
      ],
      "metadata": {
        "id": "KHnkJIy7osmG"
      }
    },
    {
      "cell_type": "markdown",
      "source": [
        "10.Explain why strings are immutable in Python\n",
        "- Strings are immutable, it means that once a string object is created in memory, its content cannot be changed.\n",
        "- There are several strong technical and practical reasons for this design decision:\n",
        "\n",
        "- Performance Optimization (Hashing and Caching):\n",
        "\n",
        "- Hashability: Immutable objects can be hashed. A hash value is a fixed integer representation of an object, crucial for efficient lookup in hash-based data structures like dictionaries and sets. If a string were mutable, its content could change, and thus its hash value would also change. This would break the integrity of dictionaries (where strings are commonly used as keys) and sets, as the original hash would no longer point to the correct location for the modified string.\n",
        "\n",
        "- Thread Safety:In multi-threaded environments, mutable objects can lead to \"race conditions\" where multiple threads try to modify the same object concurrently, resulting in corrupted data or unpredictable outcomes.Immutability inherently makes objects thread-safe. Since strings cannot be changed after creation, multiple threads can safely read and access the same string without any risk of one thread altering it while another is using it. This simplifies concurrent programming.\n",
        "\n",
        "- Predictability and Reliability:When you pass a string to a function, you can be absolutely confident that the function will not (and cannot) modify the original string you passed in. This predictability makes code easier to reason about, debug, and maintain.\n",
        "If strings were mutable, unintended side effects could easily occur, making it much harder to guarantee data integrity throughout your program.\n",
        "\n",
        "- Security and Integrity of Data:Consider strings representing sensitive data like passwords, file paths, or cryptographic keys. Immutability ensures that once these strings are created, their content cannot be tampered with by other parts of the program, enhancing security and data integrity.\n",
        "\n",
        "- Simpler Implementation (from Python's perspective):Managing mutable objects in memory requires more complex internal mechanisms (e.g., tracking references, handling in-place modifications). Immutable objects are simpler for the interpreter to manage, which can contribute to overall efficiency."
      ],
      "metadata": {
        "id": "Jj105XHrpA7z"
      }
    },
    {
      "cell_type": "markdown",
      "source": [
        "11. What advantages do dictionaries offer over lists for certain tasks?\n",
        "- Dictionaries: Provide extremely fast average-case O(1) (constant time) lookups, insertions, and deletions. You access values directly using unique keys. This is because dictionaries are implemented using hash tables, which efficiently map keys to memory locations.\n",
        "- Associative Data Storage (Meaningful Keys):Dictionaries: Allow you to associate descriptive, meaningful keys (like strings, numbers, or tuples) with values. This makes your code more readable and self-documenting.\n",
        "- Dictionaries: Do not enforce a strict order (though they maintain insertion order from Python 3.7+). You can add or remove key-value pairs at any time without affecting the positions of other items. They are ideal for sparse data where not all records have the same fields.\n",
        "- Dictionaries: Naturally group related pieces of information under a single entity (the dictionary itself), with each piece identified by a descriptive key.\n",
        "\n",
        "\n",
        "\n"
      ],
      "metadata": {
        "id": "mhLVsbHPp2Ix"
      }
    },
    {
      "cell_type": "markdown",
      "source": [
        "12. Describe a scenario where using a tuple would be preferable over a list?\n",
        "- Imagine you're building an application that needs to read and use a set of immutable configuration parameters or fixed data records that should not be changed during the program's execution.\n",
        "\n",
        "- Example:\n",
        "A database record for a Product might consist of (product_id, name, price, stock_quantity).A set of application-wide API_KEYS or SERVER_ADDRESSES that are loaded once and should remain constant.\n",
        "A definition of a Permission level: (permission_id, permission_name, description).\n",
        "\n",
        "- Why a tuple is preferable:\n",
        "\n",
        "Immutability for Data Integrity: Once you load a product record like (101, \"Laptop\", 1200.00, 50), you want to ensure that product_id (101) or name (\"Laptop\") isn't accidentally altered by some part of your code. If you used a list [101, \"Laptop\", 1200.00, 50], it would be possible to write product_list[0] = 999, which could lead to subtle and hard-to-debug errors if that modification was unintended. A tuple prevents this by raising a TypeError if modification is attempted, making your code safer and more predictable.\n",
        "\n",
        "Hashability for Dictionary Keys/Set Elements: Often, these fixed records need to be used as keys in other data structures (like a dictionary that maps product IDs to their full details, where the \"key\" might be the entire (product_id, name) combination for uniqueness). Since tuples are immutable, they are hashable and can be used as dictionary keys or elements in a set. Lists, being mutable, cannot.\n",
        "-"
      ],
      "metadata": {
        "id": "Vqh2kHczqog1"
      }
    },
    {
      "cell_type": "markdown",
      "source": [
        "13. How do sets handle duplicate values in Python?\n",
        "- Sets in Python handle duplicate values by automatically discarding them. They are designed to store only unique elements.When you try to create a set with duplicate values, or add a duplicate value to an existing set, the set simply ignores the duplicates. It ensures that each element in the set appears only once."
      ],
      "metadata": {
        "id": "dHD_-mNQrUl0"
      }
    },
    {
      "cell_type": "markdown",
      "source": [
        "14.How does the “in” keyword work differently for lists and dictionaries?\n",
        "- The in keyword in Python is used for membership testing, meaning it checks if an element exists within a collection. While its purpose is the same for lists and dictionaries, how it works internally (and thus its performance characteristics) is fundamentally different due to their underlying data structures.When you use element in my_list:\n",
        "Operation: Python iterates through the list, element by element, starting from the beginning.\n",
        "Comparison: It compares element with each item in the list.\n",
        "Result:If a match is found, it immediately returns True.\n",
        "If it iterates through the entire list without finding a match, it returns False.\n"
      ],
      "metadata": {
        "id": "rbVle77vrh55"
      }
    },
    {
      "cell_type": "markdown",
      "source": [
        "15. Can you modify the elements of a tuple? Explain why or why not?\n",
        "- No, you cannot directly modify the elements of a tuple in Python.\n",
        "This is because tuples are immutable.If you attempt to modify an element within a tuple, Python will raise a TypeError.\n",
        "- If you need a tuple with slightly different elements, you have to create a new tuple. This usually involves combining parts of the old tuple with new elements.\n",
        "- While a tuple itself is immutable, if it contains mutable objects (like lists or dictionaries), those mutable objects can still be modified. The tuple merely guarantees that its references to those objects won't change, not the objects themselves."
      ],
      "metadata": {
        "id": "IQpeTVQGsJrS"
      }
    },
    {
      "cell_type": "markdown",
      "source": [
        "16. What is a nested dictionary, and give an example of its use case?\n",
        "- A nested dictionary is a dictionary where the values of some or all of its keys are themselves other dictionaries. This allows you to represent hierarchical or more complex structured data, similar to how you might organize information with folders and subfolders on a computer."
      ],
      "metadata": {
        "id": "S6uxy6DtsxWa"
      }
    },
    {
      "cell_type": "code",
      "source": [
        "school_grades = {\n",
        "    'Alice': {\n",
        "        'Math': 90,\n",
        "        'Science': 85,\n",
        "        'English': 92\n",
        "    },\n",
        "    'Bob': {\n",
        "        'Math': 95,\n",
        "        'Science': 88,\n",
        "        'History': 78 # Bob takes History instead of English\n",
        "    },\n",
        "    'Charlie': {\n",
        "        'Math': 80,\n",
        "        'English': 90,\n",
        "        'Physics': 85\n",
        "    }\n",
        "}\n",
        "\n",
        "print(\"--- Accessing Data ---\")\n",
        "# Get Alice's Math grade:\n",
        "print(f\"Alice's Math grade: {school_grades['Alice']['Math']}\") # Output: 90\n",
        "\n",
        "# Get Bob's Science grade:\n",
        "print(f\"Bob's Science grade: {school_grades['Bob']['Science']}\") # Output: 88\n",
        "\n",
        "# Check if Charlie takes History (returns KeyError if not found)\n",
        "# print(school_grades['Charlie']['History']) # This would cause an error\n",
        "\n",
        "# Safely check if Charlie takes History:\n",
        "if 'History' in school_grades['Charlie']:\n",
        "    print(f\"Charlie's History grade: {school_grades['Charlie']['History']}\")\n",
        "else:\n",
        "    print(\"Charlie does not take History.\") # Output: Charlie does not take History.\n",
        "\n",
        "print(\"\\n--- Iterating through Data ---\")\n",
        "# Get all subjects and grades for Bob:\n",
        "print(\"Bob's Grades:\")\n",
        "for subject, grade in school_grades['Bob'].items():\n",
        "    print(f\"  {subject}: {grade}\")\n",
        "# Output:\n",
        "#   Math: 95\n",
        "#   Science: 88\n",
        "#   History: 78\n",
        "\n",
        "print(\"\\n--- Adding/Modifying Data ---\")\n",
        "# Add a new subject for Alice:\n",
        "school_grades['Alice']['Art'] = 95\n",
        "print(f\"Alice's grades after adding Art: {school_grades['Alice']}\")\n",
        "\n",
        "# Update Bob's Math grade:\n",
        "school_grades['Bob']['Math'] = 97\n",
        "print(f\"Bob's grades after updating Math: {school_grades['Bob']}\")"
      ],
      "metadata": {
        "colab": {
          "base_uri": "https://localhost:8080/"
        },
        "id": "ZgpUe3_ItQG6",
        "outputId": "92b5d48b-cf3d-49d4-8de5-15218bab1f32"
      },
      "execution_count": null,
      "outputs": [
        {
          "output_type": "stream",
          "name": "stdout",
          "text": [
            "--- Accessing Data ---\n",
            "Alice's Math grade: 90\n",
            "Bob's Science grade: 88\n",
            "Charlie does not take History.\n",
            "\n",
            "--- Iterating through Data ---\n",
            "Bob's Grades:\n",
            "  Math: 95\n",
            "  Science: 88\n",
            "  History: 78\n",
            "\n",
            "--- Adding/Modifying Data ---\n",
            "Alice's grades after adding Art: {'Math': 90, 'Science': 85, 'English': 92, 'Art': 95}\n",
            "Bob's grades after updating Math: {'Math': 97, 'Science': 88, 'History': 78}\n"
          ]
        }
      ]
    },
    {
      "cell_type": "markdown",
      "source": [
        "17.  Describe the time complexity of accessing elements in a dictionary?\n",
        "- the time complexity of accessing elements in a Python dictionary, often referred to as a \"lookup.\" This is one of the key strengths of dictionaries!\n",
        "The time complexity of accessing elements (retrieving a value given its key) in a Python dictionary is:Average Case: O(1) - Constant Time.Worst Case: O(N) - Linear Time.\n",
        "- O(1) means that the time it takes to perform the operation (accessing an element) is constant, regardless of the size of the dictionary. Whether the dictionary has 10 items or 10 million items, the time taken for a lookup is, on average, the same.\n",
        "-O(N) means that in the worst-case scenario, the time it takes to access an element scales linearly with the number of elements (N) in the dictionary. If the dictionary has 10 items, it might take X time; if it has 100 items, it might take 10X time.\n",
        "- For almost all practical applications, you can safely assume that accessing elements in a Python dictionary is an extremely fast, constant-time operation (O(1)). This makes dictionaries the go-to data structure when you need to store data based on unique keys and require rapid lookups."
      ],
      "metadata": {
        "id": "9pJXv_CctZuf"
      }
    },
    {
      "cell_type": "markdown",
      "source": [
        "18. In what situations are lists preferred over dictionaries?\n",
        "- While dictionaries offer powerful advantages for key-value lookups, there are many situations where lists are preferred due to their fundamental nature as ordered sequences.\n",
        "- Lists maintain the order in which elements are inserted. This means the first element you add will always be at index 0, the second at index 1, and so on. Dictionaries (while preserving insertion order from Python 3.7+) are not primarily designed for order-dependent operations like indexing or slicing in the same way lists are.\n",
        "-  Lists provide direct, O(1) (constant time) access to elements using their integer index (my_list[0], my_list[5]). They also support slicing (my_list[1:4]) to get subsets of the list based on position. Dictionaries use arbitrary, user-defined keys, not integer positions for access (unless you intentionally use integers as keys, which defeats the purpose of fast hash-based lookups by meaningful keys).\n",
        "- Lists can contain multiple identical elements. Dictionary keys, by definition, must be unique.\n",
        "- Lists provide efficient append() (add to end) and pop() (remove from end) methods, making them suitable for implementing stacks (Last-In, First-Out). For queues (First-In, First-Out), while list.pop(0) is O(n), the collections.deque class (which is list-like) offers O(1) appends and pops from both ends, making it ideal for queues.\n"
      ],
      "metadata": {
        "id": "gGGCCzKzuITA"
      }
    },
    {
      "cell_type": "markdown",
      "source": [
        "19. Why are dictionaries considered unordered, and how does that affect data retrieval?\n",
        "- When you iterated over a dictionary (e.g., using a for loop), the order in which you got the key-value pairs was not guaranteed to be the same as the order in which you inserted them. It could vary between runs of the same program, or even between different machines or Python installations.\n",
        "- You could never retrieve an item by its \"1st,\" \"2nd,\" or \"Nth\" position, because those positions weren't stable or guaranteed. This wasn't a performance hit, but a functional limitation.\n",
        "- When you iterate over a dictionary, the keys (and their corresponding values) will be returned in the order in which they were first inserted into the dictionary. If an existing key is updated, its position remains the same.\n",
        "\n",
        "Not \"Sorted\" Order: It's important to differentiate \"insertion order\" from \"sorted order.\" A dictionary is not automatically sorted by its keys or values. It only remembers the sequence of additions."
      ],
      "metadata": {
        "id": "6adTbrvhu9q_"
      }
    },
    {
      "cell_type": "markdown",
      "source": [
        "20.  Explain the difference between a list and a dictionary in terms of data retrieval.\n",
        "-  The fundamental differences in how data is retrieved from lists and dictionaries in Python, focusing on the underlying mechanisms and performance. Lists are ordered sequences of elements. Each element has an implicit integer index, starting from 0 for the first element.\n",
        "- Retrieval Mechanism in the lists:\n",
        "\n",
        "- By Index: When you retrieve an element using its integer index (e.g., my_list[2]), Python directly accesses the element at that memory location. This is an extremely fast operation.\n",
        "\n",
        "- By Value (Membership Testing): When you check if a specific value exists in a list (e.g., value in my_list), Python has to iterate through the list, comparing the target value with each element one by one, until a match is found or the end of the list is reached.\n",
        "- Data Retrieval in Dictionaries\n",
        "Structure: Dictionaries store data as key-value pairs. Each key is unique and maps to a specific value. They are fundamentally designed for associative lookup.\n",
        "Retrieval Mechanism:\n",
        "- By Key: When you retrieve a value using its key (e.g., my_dict[key]), Python uses a hash table internally.It first calculates a hash value (a unique integer) for the key you provided.This hash value then directly points to a specific \"bucket\" or memory location within the dictionary's internal storage where that key-value pair should reside.Python goes directly to that location to retrieve the associated value.\n",
        "- In essence:\n",
        "\n",
        "Lists are great when the order of items matters, and you often access items by their numerical position.\n",
        "\n",
        "Dictionaries are great when you need to store data with meaningful labels (keys) and retrieve specific pieces of data very quickly using those labels."
      ],
      "metadata": {
        "id": "-jVaPVtzvpdD"
      }
    },
    {
      "cell_type": "markdown",
      "source": [
        "# Practical Questions\n"
      ],
      "metadata": {
        "id": "w1bKYdr1CIS1"
      }
    },
    {
      "cell_type": "code",
      "source": [
        "#1. Write a code to create a string with your name and print it.\n",
        "# Create a string variable to store the name\n",
        "my_name = input(\"Enter your name:\")\n",
        "print(f\"My name is: {my_name}\")\n"
      ],
      "metadata": {
        "colab": {
          "base_uri": "https://localhost:8080/"
        },
        "id": "luNvC36HCSjl",
        "outputId": "b4718d36-eb04-46a4-cbbd-d970f43c2b96"
      },
      "execution_count": 2,
      "outputs": [
        {
          "output_type": "stream",
          "name": "stdout",
          "text": [
            "Enter your name:Bishal Deb\n",
            "My name is: Bishal Deb\n"
          ]
        }
      ]
    },
    {
      "cell_type": "code",
      "source": [
        "#2. Write the code to find length of the string \"Hello World\".\n",
        "my_string = \"Hello World\"\n",
        "string_length = len(my_string)\n",
        "print(f\"The length of the string '{my_string}' is: {string_length}\")"
      ],
      "metadata": {
        "colab": {
          "base_uri": "https://localhost:8080/"
        },
        "id": "yZM7weHUCvfD",
        "outputId": "7845dc69-7de5-4cf0-bada-9460e27b498d"
      },
      "execution_count": 3,
      "outputs": [
        {
          "output_type": "stream",
          "name": "stdout",
          "text": [
            "The length of the string 'Hello World' is: 11\n"
          ]
        }
      ]
    },
    {
      "cell_type": "code",
      "source": [
        "#3.Write a code to slice the first 3 characters from the string \"Python Programming\"\n",
        "the_string = \"Python Programming\"\n",
        "sliced_string = the_string[0:3]\n",
        "print(f\"Original string: '{the_string}'\")\n",
        "print(f\"Sliced string (first 3 characters): '{sliced_string}'\")"
      ],
      "metadata": {
        "colab": {
          "base_uri": "https://localhost:8080/"
        },
        "id": "Xc1mphG6DON3",
        "outputId": "139b9146-b4c3-4e33-ed3e-ba35be8cb3a0"
      },
      "execution_count": 4,
      "outputs": [
        {
          "output_type": "stream",
          "name": "stdout",
          "text": [
            "Original string: 'Python Programming'\n",
            "Sliced string (first 3 characters): 'Pyt'\n"
          ]
        }
      ]
    },
    {
      "cell_type": "code",
      "source": [
        "#4. Write a code to convert the string \"hello\" to uppercase\n",
        "original_string = \"hello\"\n",
        "uppercase_string = original_string.upper()\n",
        "print(f\"Uppercase string: '{uppercase_string}'\")"
      ],
      "metadata": {
        "colab": {
          "base_uri": "https://localhost:8080/"
        },
        "id": "Emci8V5RD1zB",
        "outputId": "808d2473-7a61-472f-adca-b80817140f17"
      },
      "execution_count": 5,
      "outputs": [
        {
          "output_type": "stream",
          "name": "stdout",
          "text": [
            "Uppercase string: 'HELLO'\n"
          ]
        }
      ]
    },
    {
      "cell_type": "code",
      "source": [
        "#5.Write a code to replace the word \"apple\" with \"orange\" in the string \"I like apple\"\n",
        "# Define the original string\n",
        "original_string = \"I like apple\"\n",
        "new_string = original_string.replace(\"apple\", \"orange\")\n",
        "print(f\"String after replacement: '{new_string}'\")"
      ],
      "metadata": {
        "colab": {
          "base_uri": "https://localhost:8080/"
        },
        "id": "GTWg4NeuEHWu",
        "outputId": "aa73266c-4fcd-406c-a664-a1ef2cfd151c"
      },
      "execution_count": 6,
      "outputs": [
        {
          "output_type": "stream",
          "name": "stdout",
          "text": [
            "String after replacement: 'I like orange'\n"
          ]
        }
      ]
    },
    {
      "cell_type": "code",
      "source": [
        "#6.Write a code to create a list with numbers 1 to 5 and print it\n",
        "my_list = [1, 2, 3, 4, 5]\n",
        "\n",
        "# Print the list\n",
        "print(f\"The created list is: {my_list}\")"
      ],
      "metadata": {
        "colab": {
          "base_uri": "https://localhost:8080/"
        },
        "id": "GU_ze7xsE8d6",
        "outputId": "843ad1af-d4a2-4fdd-ce9c-afa2bd4c8fc4"
      },
      "execution_count": 8,
      "outputs": [
        {
          "output_type": "stream",
          "name": "stdout",
          "text": [
            "The created list is: [1, 2, 3, 4, 5]\n"
          ]
        }
      ]
    },
    {
      "cell_type": "code",
      "source": [
        "#7.Write a code to append the number 10 to the list [1, 2, 3, 4]\n",
        "my_list = [1, 2, 3, 4]\n",
        "my_list.append(10)\n",
        "print(f\"The list after appending 10 is: {my_list}\")"
      ],
      "metadata": {
        "colab": {
          "base_uri": "https://localhost:8080/"
        },
        "id": "vLM3pViVFep0",
        "outputId": "6265f6fc-da06-4e32-e3a3-c5b653562a88"
      },
      "execution_count": 9,
      "outputs": [
        {
          "output_type": "stream",
          "name": "stdout",
          "text": [
            "The list after appending 10 is: [1, 2, 3, 4, 10]\n"
          ]
        }
      ]
    },
    {
      "cell_type": "code",
      "source": [
        "#8.Write a code to remove the number 3 from the list[1,2,3,4,5]\n",
        "my_list = [1, 2, 3, 4, 5]\n",
        "my_list.remove(3)\n",
        "print(f\"The list after removing 3 is: {my_list}\")"
      ],
      "metadata": {
        "colab": {
          "base_uri": "https://localhost:8080/"
        },
        "id": "JwAoSOifFxre",
        "outputId": "77696fc4-5c31-4a35-b986-1c83d3f28455"
      },
      "execution_count": 10,
      "outputs": [
        {
          "output_type": "stream",
          "name": "stdout",
          "text": [
            "The list after removing 3 is: [1, 2, 4, 5]\n"
          ]
        }
      ]
    },
    {
      "cell_type": "code",
      "source": [
        "#9. Write a code to access the second element in the list ['a', 'b', 'c', 'd']\n",
        "# Define the list\n",
        "my_list = ['a', 'b', 'c', 'd']\n",
        "second_element = my_list[1]\n",
        "print(f\"The original list is: {my_list}\")\n",
        "print(f\"The second element is: '{second_element}'\")\n"
      ],
      "metadata": {
        "colab": {
          "base_uri": "https://localhost:8080/"
        },
        "id": "2spZHiRiGPej",
        "outputId": "a47297f9-2c2a-415e-c4b7-d3fe261a28ea"
      },
      "execution_count": 11,
      "outputs": [
        {
          "output_type": "stream",
          "name": "stdout",
          "text": [
            "The original list is: ['a', 'b', 'c', 'd']\n",
            "The second element is: 'b'\n"
          ]
        }
      ]
    },
    {
      "cell_type": "code",
      "source": [
        "#10.Write a code to reverse the list [10, 20, 30, 40, 50]\n",
        "original_list_slice = [10, 20, 30, 40, 50]\n",
        "reversed_list_new = original_list_slice[::-1]\n",
        "print(f\"New reversed list (using slicing): {reversed_list_new}\")"
      ],
      "metadata": {
        "colab": {
          "base_uri": "https://localhost:8080/"
        },
        "id": "7fNQuk1CGd-t",
        "outputId": "3c86e895-dd12-4fa7-b2f3-d01ef0b6b23b"
      },
      "execution_count": 12,
      "outputs": [
        {
          "output_type": "stream",
          "name": "stdout",
          "text": [
            "New reversed list (using slicing): [50, 40, 30, 20, 10]\n"
          ]
        }
      ]
    },
    {
      "cell_type": "code",
      "source": [
        "#11. Write a code to create a tuple with elements 100, 200, 300 and print it\n",
        "my_tuple = (100, 200, 300)\n",
        "print(f\"The created tuple is: {my_tuple}\")"
      ],
      "metadata": {
        "colab": {
          "base_uri": "https://localhost:8080/"
        },
        "id": "eXeYU_QVG0cP",
        "outputId": "2ac1eb46-986a-4e7d-a8c6-905439b3fdd2"
      },
      "execution_count": 13,
      "outputs": [
        {
          "output_type": "stream",
          "name": "stdout",
          "text": [
            "The created tuple is: (100, 200, 300)\n"
          ]
        }
      ]
    },
    {
      "cell_type": "code",
      "source": [
        "#12. Write a code to access the second-to-last element of the tuple ('red', 'green', 'blue', 'yellow').\n",
        "my_tuple = ('red', 'green', 'blue', 'yellow')\n",
        "second_to_last_element = my_tuple[-2]\n",
        "print(f\"The second-to-last element is: '{second_to_last_element}'\")\n"
      ],
      "metadata": {
        "colab": {
          "base_uri": "https://localhost:8080/"
        },
        "id": "kZ2E0m7PHMcE",
        "outputId": "e76de13e-7edc-4889-8c3d-5b749668a4e7"
      },
      "execution_count": 14,
      "outputs": [
        {
          "output_type": "stream",
          "name": "stdout",
          "text": [
            "The second-to-last element is: 'blue'\n"
          ]
        }
      ]
    },
    {
      "cell_type": "code",
      "source": [
        "#13. Write a code to find the minimum number in the tuple (10, 20, 5, 15)\n",
        "\n",
        "my_tuple = (10, 20, 5, 15)\n",
        "minimum_number = min(my_tuple)\n",
        "print(f\"The minimum number in the tuple is: {minimum_number}\")"
      ],
      "metadata": {
        "colab": {
          "base_uri": "https://localhost:8080/"
        },
        "id": "U1kpGnFsHdo5",
        "outputId": "013b4916-eddf-4e5a-c57b-c7c6154e5c17"
      },
      "execution_count": 15,
      "outputs": [
        {
          "output_type": "stream",
          "name": "stdout",
          "text": [
            "The minimum number in the tuple is: 5\n"
          ]
        }
      ]
    },
    {
      "cell_type": "code",
      "source": [
        "#14.  Write a code to find the index of the element \"cat\" in the tuple ('dog', 'cat', 'rabbit').\n",
        "\n",
        "my_tuple = ('dog', 'cat', 'rabbit')\n",
        "element_to_find = 'cat'\n",
        "print(f\"Element to find: '{element_to_find}'\\n\")\n",
        "found_with_counter = False\n",
        "counter = 0\n",
        "for item in my_tuple:\n",
        "    if item == element_to_find:\n",
        "        print(f\" Element '{element_to_find}' found at index: {counter}\")\n",
        "        found_with_counter = True\n",
        "        break # Exit loop once found\n",
        "    counter += 1\n",
        "if not found_with_counter:\n",
        "    print(f\" Element '{element_to_find}' was not found in the tuple.\")"
      ],
      "metadata": {
        "colab": {
          "base_uri": "https://localhost:8080/"
        },
        "id": "l2UUxwQrHwpw",
        "outputId": "8b22c42f-31e5-4f8b-a869-6c8c14e19010"
      },
      "execution_count": 16,
      "outputs": [
        {
          "output_type": "stream",
          "name": "stdout",
          "text": [
            "Element to find: 'cat'\n",
            "\n",
            " Element 'cat' found at index: 1\n"
          ]
        }
      ]
    },
    {
      "cell_type": "code",
      "source": [
        "#15.Write a code to create a tuple containing three different fruits and check if \"kiwi\" is in it.\n",
        "#Create a tuple with different fruits\n",
        "fruit_tuple = ('apple', 'banana', 'orange', 'grape')\n",
        "\n",
        "# Check if \"kiwi\" is in the tuple using the 'in' operator\n",
        "if \"kiwi\" in fruit_tuple:\n",
        "    print(f\"The tuple {fruit_tuple} contains 'kiwi'.\")\n",
        "else:\n",
        "    print(f\"The tuple {fruit_tuple} does not contain 'kiwi'.\")\n",
        "\n",
        "# Example with a tuple that does contain 'kiwi'\n",
        "fruit_tuple_with_kiwi = ('apple', 'banana', 'kiwi', 'grape')\n",
        "if \"kiwi\" in fruit_tuple_with_kiwi:\n",
        "    print(f\"The tuple {fruit_tuple_with_kiwi} contains 'kiwi'.\")\n",
        "else:\n",
        "    print(f\"The tuple {fruit_tuple_with_kiwi} does not contain 'kiwi'.\")\n"
      ],
      "metadata": {
        "colab": {
          "base_uri": "https://localhost:8080/"
        },
        "id": "uTlnL1kDI8nt",
        "outputId": "7b49cf81-3c7a-44ec-c538-8bfacfecf8f9"
      },
      "execution_count": 18,
      "outputs": [
        {
          "output_type": "stream",
          "name": "stdout",
          "text": [
            "The tuple ('apple', 'banana', 'orange', 'grape') does not contain 'kiwi'.\n",
            "The tuple ('apple', 'banana', 'kiwi', 'grape') contains 'kiwi'.\n"
          ]
        }
      ]
    },
    {
      "cell_type": "code",
      "source": [
        "#16.Write a code to create a set with the elements 'a', 'b', 'c' and print it.\n",
        "# Sets are unordered collections of unique elements.\n",
        "my_set = {'a', 'b', 'c'}\n",
        "print(f\"The created set is: {my_set}\")"
      ],
      "metadata": {
        "colab": {
          "base_uri": "https://localhost:8080/"
        },
        "id": "-2gANM4iJgTd",
        "outputId": "af0bf033-7c8e-48ab-a5d8-16c31097d66d"
      },
      "execution_count": 19,
      "outputs": [
        {
          "output_type": "stream",
          "name": "stdout",
          "text": [
            "The created set is: {'b', 'a', 'c'}\n"
          ]
        }
      ]
    },
    {
      "cell_type": "code",
      "source": [
        "#17. Write a code to clear all elements from the set {1, 2, 3, 4, 5}\n",
        "numbers_set = {1, 2, 3, 4, 5}\n",
        "print(f\"Original set: {numbers_set}\")\n",
        "numbers_set.clear()\n",
        "print(f\"Set after clearing all elements: {numbers_set}\")\n"
      ],
      "metadata": {
        "colab": {
          "base_uri": "https://localhost:8080/"
        },
        "id": "UXxi8RkiJwjL",
        "outputId": "bdbd3a24-ba17-4acc-ab38-58b27e9a4fa6"
      },
      "execution_count": 20,
      "outputs": [
        {
          "output_type": "stream",
          "name": "stdout",
          "text": [
            "Original set: {1, 2, 3, 4, 5}\n",
            "Set after clearing all elements: set()\n"
          ]
        }
      ]
    },
    {
      "cell_type": "code",
      "source": [
        "#18. Write a code to remove the element 4 from the set {1, 2, 3, 4}.\n",
        "another_set = {1,2,3,4}\n",
        "print(f\"Original set: {another_set}\")\n",
        "another_set.discard(4)\n",
        "print(f\"Set after discarding 4: {another_set}\")\n"
      ],
      "metadata": {
        "colab": {
          "base_uri": "https://localhost:8080/"
        },
        "id": "b1u5UfyxKDvL",
        "outputId": "53b40f17-8337-4e6f-dc10-e211741448b8"
      },
      "execution_count": 21,
      "outputs": [
        {
          "output_type": "stream",
          "name": "stdout",
          "text": [
            "Original set: {1, 2, 3, 4}\n",
            "Set after discarding 4: {1, 2, 3}\n"
          ]
        }
      ]
    },
    {
      "cell_type": "code",
      "source": [
        "#19. Write a code to find the union of two sets {1, 2, 3} and {3, 4, 5}\n",
        "set1 = {1, 2, 3}\n",
        "set2 = {3, 4, 5}\n",
        "\n",
        "print(f\"Set 1: {set1}\")\n",
        "print(f\"Set 2: {set2}\")\n",
        "union_set_operator = set1 | set2\n",
        "print(f\"Union using | operator: {union_set_operator}\")\n",
        "union_set_method = set1.union(set2)\n",
        "print(f\"Union using .union() method: {union_set_method}\")"
      ],
      "metadata": {
        "colab": {
          "base_uri": "https://localhost:8080/"
        },
        "id": "M2-H24sVLE8b",
        "outputId": "4bb85659-f096-48ce-d490-f399fc3f3f97"
      },
      "execution_count": 22,
      "outputs": [
        {
          "output_type": "stream",
          "name": "stdout",
          "text": [
            "Set 1: {1, 2, 3}\n",
            "Set 2: {3, 4, 5}\n",
            "Union using | operator: {1, 2, 3, 4, 5}\n",
            "Union using .union() method: {1, 2, 3, 4, 5}\n"
          ]
        }
      ]
    },
    {
      "cell_type": "code",
      "source": [
        "#20.Write a code to find the intersection of two sets {1, 2, 3} and {2, 3, 4}\n",
        "intersection_set1 = {1, 2, 3}\n",
        "intersection_set2 = {2, 3, 4}\n",
        "print(f\"Set for intersection 1: {intersection_set1}\")\n",
        "print(f\"Set for intersection 2: {intersection_set2}\")\n",
        "intersection_set_operator = intersection_set1 & intersection_set2\n",
        "print(f\"Intersection using & operator: {intersection_set_operator}\")"
      ],
      "metadata": {
        "colab": {
          "base_uri": "https://localhost:8080/"
        },
        "id": "BhLei9KbLbsL",
        "outputId": "e7ab1c03-77e5-488d-d1e0-c490f78a1c8c"
      },
      "execution_count": 25,
      "outputs": [
        {
          "output_type": "stream",
          "name": "stdout",
          "text": [
            "Set for intersection 1: {1, 2, 3}\n",
            "Set for intersection 2: {2, 3, 4}\n",
            "Intersection using & operator: {2, 3}\n"
          ]
        }
      ]
    },
    {
      "cell_type": "code",
      "source": [
        "#21.Write a code to create a dictionary with the keys \"name\", \"age\", and \"city\", and print it\n",
        "my_dictionary = {\n",
        "    \"name\": \"Bishal Deb\",\n",
        "    \"age\": 28,\n",
        "    \"city\": \"Silchar\"\n",
        "}\n",
        "\n",
        "# Print the dictionary\n",
        "print(f\"The created dictionary is: {my_dictionary}\")"
      ],
      "metadata": {
        "colab": {
          "base_uri": "https://localhost:8080/"
        },
        "id": "0IiocLQnL0rz",
        "outputId": "cc3c1fcc-1193-47b3-87a5-02570247773b"
      },
      "execution_count": 27,
      "outputs": [
        {
          "output_type": "stream",
          "name": "stdout",
          "text": [
            "The created dictionary is: {'name': 'Bishal Deb', 'age': 28, 'city': 'Silchar'}\n"
          ]
        }
      ]
    },
    {
      "cell_type": "code",
      "source": [
        "#22.  Write a code to add a new key-value pair \"country\": \"USA\" to the dictionary {'name': 'John', 'age': 25}.\n",
        "# Define the dictionary\n",
        "person_dict = {'name': 'John', 'age': 25}\n",
        "print(f\"Original dictionary: {person_dict}\")\n",
        "# Add a new key-value pair \"country\": \"USA\"\n",
        "person_dict[\"country\"] = \"USA\"\n",
        "print(f\"Dictionary after adding 'country': {person_dict}\")\n"
      ],
      "metadata": {
        "colab": {
          "base_uri": "https://localhost:8080/"
        },
        "id": "yhbRr4laMbcq",
        "outputId": "f5dbb261-49cf-48e6-e335-68bca2d56d5b"
      },
      "execution_count": 28,
      "outputs": [
        {
          "output_type": "stream",
          "name": "stdout",
          "text": [
            "Original dictionary: {'name': 'John', 'age': 25}\n",
            "Dictionary after adding 'country': {'name': 'John', 'age': 25, 'country': 'USA'}\n"
          ]
        }
      ]
    },
    {
      "cell_type": "code",
      "source": [
        "#23. Write a code to access the value associated with the key \"name\" in the dictionary {'name': 'Alice', 'age': 30}\n",
        "user_info = {'name':'Alice','age':30}\n",
        "age_value = user_info.get('age')\n",
        "print(f\"the value associated with the key age is: {age_value}\")"
      ],
      "metadata": {
        "colab": {
          "base_uri": "https://localhost:8080/"
        },
        "id": "SWsmG4vSMwpS",
        "outputId": "6f4f618f-18c4-4e05-e91c-72f23f555546"
      },
      "execution_count": 33,
      "outputs": [
        {
          "output_type": "stream",
          "name": "stdout",
          "text": [
            "the value associated with the key age is: 30\n"
          ]
        }
      ]
    },
    {
      "cell_type": "code",
      "source": [
        "#24. Write a code to remove the key \"age\" from the dictionary {'name': 'Bob', 'age': 22, 'city': 'New York'}.\n",
        "my_dictionary={'name': 'Bob', 'age': 22, 'city': 'New York'}\n",
        "removed_age=my_dictionary.pop('age')\n",
        "print(f\"removed age using .pop(): {removed_age}\")\n",
        "print(f\"dictionary after removing age:{my_dictionary}\")"
      ],
      "metadata": {
        "colab": {
          "base_uri": "https://localhost:8080/"
        },
        "id": "riXbDRYNODLZ",
        "outputId": "6b38548d-91db-46a2-83af-0ba147cdd432"
      },
      "execution_count": 35,
      "outputs": [
        {
          "output_type": "stream",
          "name": "stdout",
          "text": [
            "removed age using .pop(): 22\n",
            "dictionary after removing age:{'name': 'Bob', 'city': 'New York'}\n"
          ]
        }
      ]
    },
    {
      "cell_type": "code",
      "source": [
        "#25. Write a code to check if the key \"city\" exists in the dictionary {'name': 'Alice', 'city': 'Paris'}.\n",
        "person_data = {'name': 'Alice', 'city': 'Paris'}\n",
        "print(f\"Dictionary: {person_data}\")\n",
        "if \"city\" in person_data.keys():\n",
        "    print(f\"Using .keys() method: The key 'city' exists in the dictionary.\")\n",
        "else:\n",
        "    print(f\"Using .keys() method: The key 'city' does NOT exist in the dictionary.\")"
      ],
      "metadata": {
        "colab": {
          "base_uri": "https://localhost:8080/"
        },
        "id": "xh8X6frjP4Bu",
        "outputId": "e9498247-e184-4e05-9b1d-4e6a34fc043d"
      },
      "execution_count": 36,
      "outputs": [
        {
          "output_type": "stream",
          "name": "stdout",
          "text": [
            "Dictionary: {'name': 'Alice', 'city': 'Paris'}\n",
            "Using .keys() method: The key 'city' exists in the dictionary.\n"
          ]
        }
      ]
    },
    {
      "cell_type": "code",
      "source": [
        "#26.  Write a code to create a list, a tuple, and a dictionary, and print them all.\n",
        "my_list=[10,20,\"Hello\"]\n",
        "print(f\"created my list: {my_list}\")\n",
        "my_tuple=(1,2,\"apple\",True)\n",
        "print(f\"created my tuple:{my_tuple}\")\n",
        "my_dictionary={\n",
        "    'product':\"Laptop\",\n",
        "    'price': 1500,\n",
        "    'in-stock': True\n",
        "}\n",
        "print(f\"my dictionary:{my_dictionary}\")"
      ],
      "metadata": {
        "colab": {
          "base_uri": "https://localhost:8080/"
        },
        "id": "uZPeMffiQTf1",
        "outputId": "6275a4c6-3f10-4f0d-f7f3-3e5982aa8d8f"
      },
      "execution_count": 40,
      "outputs": [
        {
          "output_type": "stream",
          "name": "stdout",
          "text": [
            "created my list: [10, 20, 'Hello']\n",
            "created my tuple:(1, 2, 'apple', True)\n",
            "my dictionary:{'product': 'Laptop', 'price': 1500, 'in-stock': True}\n"
          ]
        }
      ]
    },
    {
      "cell_type": "code",
      "source": [
        "#27. Write a code to create a list of 5 random numbers between 1 and 100, sort it in ascending order, and print the result.\n",
        "import random\n",
        "random_numbers = []\n",
        "for _ in range(5):\n",
        "    random_numbers.append(random.randint(1, 100))\n",
        "random_numbers.sort()\n",
        "print(f\"Sorted list of random numbers: {random_numbers}\")"
      ],
      "metadata": {
        "colab": {
          "base_uri": "https://localhost:8080/"
        },
        "id": "CyHRMHBJR6zw",
        "outputId": "0faa6404-7bb8-4898-f67b-3ab739dfa1e0"
      },
      "execution_count": 45,
      "outputs": [
        {
          "output_type": "stream",
          "name": "stdout",
          "text": [
            "Sorted list of random numbers: [1, 21, 48, 60, 64]\n"
          ]
        }
      ]
    },
    {
      "cell_type": "code",
      "source": [
        "#28.Write a code to create a list with strings and print the element at the third index.\n",
        "my_strings = [\"apple\", \"banana\", \"cherry\", \"date\", \"elderberry\"]\n",
        "print(my_strings[3])"
      ],
      "metadata": {
        "colab": {
          "base_uri": "https://localhost:8080/"
        },
        "id": "O_ffw3ZDTXlw",
        "outputId": "4071b238-eee9-40f8-f734-4d2c1c9ad2f6"
      },
      "execution_count": 46,
      "outputs": [
        {
          "output_type": "stream",
          "name": "stdout",
          "text": [
            "date\n"
          ]
        }
      ]
    },
    {
      "cell_type": "code",
      "source": [
        "#29.\n",
        "# Define the first dictionary\n",
        "dict1 = {\n",
        "    \"name\": \"Bishal\",\n",
        "    \"age\": 28,\n",
        "    \"city\": \"Silchar\"\n",
        "}\n",
        "# Define the second dictionary\n",
        "dict2 = {\n",
        "    \"occupation\": \"Student\",\n",
        "    \"country\": \"India\",\n",
        "    \"age\": 30 }\n",
        "combined_dict = dict1.copy()\n",
        "combined_dict.update(dict2)\n",
        "\n",
        "print(\"Combined dictionary):\")\n",
        "print(combined_dict)\n",
        "print(\"-\" * 30)"
      ],
      "metadata": {
        "colab": {
          "base_uri": "https://localhost:8080/"
        },
        "id": "xz99XVE1T9vL",
        "outputId": "48144e72-9496-4eeb-f03c-b478cf37102f"
      },
      "execution_count": 51,
      "outputs": [
        {
          "output_type": "stream",
          "name": "stdout",
          "text": [
            "Combined dictionary):\n",
            "{'name': 'Bishal', 'age': 30, 'city': 'Silchar', 'occupation': 'Student', 'country': 'India'}\n",
            "------------------------------\n"
          ]
        }
      ]
    },
    {
      "cell_type": "code",
      "source": [
        "#30. Write a code to convert a list of strings into a set.\n",
        "# Create a list of strings\n",
        "my_string_list = [\"apple\", \"banana\", \"cherry\", \"apple\", \"date\", \"banana\"]\n",
        "my_string_set = set(my_string_list)\n",
        "print(f\"Converted set of strings: {my_string_set}\")\n"
      ],
      "metadata": {
        "colab": {
          "base_uri": "https://localhost:8080/"
        },
        "id": "N0IgMUzSUrhT",
        "outputId": "aee82202-1f5d-4ec2-9262-3de05242e1d5"
      },
      "execution_count": 56,
      "outputs": [
        {
          "output_type": "stream",
          "name": "stdout",
          "text": [
            "Converted set of strings: {'cherry', 'banana', 'date', 'apple'}\n"
          ]
        }
      ]
    }
  ]
}